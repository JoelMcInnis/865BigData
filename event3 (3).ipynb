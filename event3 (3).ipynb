{
 "cells": [
  {
   "cell_type": "markdown",
   "metadata": {},
   "source": [
    "# Big Data Cup Event #3"
   ]
  },
  {
   "cell_type": "code",
   "execution_count": 73,
   "metadata": {},
   "outputs": [],
   "source": [
    "import pandas as pd\n",
    "import numpy as np\n",
    "import re\n",
    "import nltk\n",
    "from IPython.core.interactiveshell import InteractiveShell\n",
    "InteractiveShell.ast_node_interactivity = \"all\""
   ]
  },
  {
   "cell_type": "code",
   "execution_count": 2,
   "metadata": {
    "tags": []
   },
   "outputs": [
    {
     "output_type": "stream",
     "name": "stdout",
     "text": "The scikit-learn version is 0.23.2.\n"
    }
   ],
   "source": [
    "import sklearn\n",
    "print('The scikit-learn version is {}.'.format(sklearn.__version__))"
   ]
  },
  {
   "cell_type": "code",
   "execution_count": 3,
   "metadata": {},
   "outputs": [
    {
     "output_type": "execute_result",
     "data": {
      "text/plain": "\"c:\\\\Users\\\\mcinn\\\\OneDrive - Queen's University\\\\GMMA 865 - Big Data Analytics\\\\865BigData\""
     },
     "metadata": {},
     "execution_count": 3
    }
   ],
   "source": [
    "import os\n",
    "os.getcwd()"
   ]
  },
  {
   "cell_type": "markdown",
   "metadata": {},
   "source": [
    "# Load Data"
   ]
  },
  {
   "cell_type": "code",
   "execution_count": 6,
   "metadata": {
    "tags": []
   },
   "outputs": [
    {
     "output_type": "stream",
     "name": "stdout",
     "text": "<class 'pandas.core.frame.DataFrame'>\nRangeIndex: 5000 entries, 0 to 4999\nData columns (total 3 columns):\n #   Column    Non-Null Count  Dtype \n---  ------    --------------  ----- \n 0   id        5000 non-null   int64 \n 1   sms_text  5000 non-null   object\n 2   spam      5000 non-null   int64 \ndtypes: int64(2), object(1)\nmemory usage: 117.3+ KB\n"
    },
    {
     "output_type": "execute_result",
     "data": {
      "text/plain": "   id                                           sms_text  spam\n0   1  Hope you are having a good week. Just checking in     0\n1   2                            K..give back my thanks.     0\n2   3        Am also doing in cbe only. But have to pay.     0\n3   4  complimentary 4 STAR Ibiza Holiday or £10,000 ...     1\n4   5  okmail: Dear Dave this is your final notice to...     1",
      "text/html": "<div>\n<style scoped>\n    .dataframe tbody tr th:only-of-type {\n        vertical-align: middle;\n    }\n\n    .dataframe tbody tr th {\n        vertical-align: top;\n    }\n\n    .dataframe thead th {\n        text-align: right;\n    }\n</style>\n<table border=\"1\" class=\"dataframe\">\n  <thead>\n    <tr style=\"text-align: right;\">\n      <th></th>\n      <th>id</th>\n      <th>sms_text</th>\n      <th>spam</th>\n    </tr>\n  </thead>\n  <tbody>\n    <tr>\n      <th>0</th>\n      <td>1</td>\n      <td>Hope you are having a good week. Just checking in</td>\n      <td>0</td>\n    </tr>\n    <tr>\n      <th>1</th>\n      <td>2</td>\n      <td>K..give back my thanks.</td>\n      <td>0</td>\n    </tr>\n    <tr>\n      <th>2</th>\n      <td>3</td>\n      <td>Am also doing in cbe only. But have to pay.</td>\n      <td>0</td>\n    </tr>\n    <tr>\n      <th>3</th>\n      <td>4</td>\n      <td>complimentary 4 STAR Ibiza Holiday or £10,000 ...</td>\n      <td>1</td>\n    </tr>\n    <tr>\n      <th>4</th>\n      <td>5</td>\n      <td>okmail: Dear Dave this is your final notice to...</td>\n      <td>1</td>\n    </tr>\n  </tbody>\n</table>\n</div>"
     },
     "metadata": {},
     "execution_count": 6
    }
   ],
   "source": [
    "df = pd.read_csv(\"spamraw_train.csv\")\n",
    "df.info()\n",
    "df.head()"
   ]
  },
  {
   "cell_type": "code",
   "execution_count": 7,
   "metadata": {},
   "outputs": [
    {
     "output_type": "execute_result",
     "data": {
      "text/plain": "array([4327,  673], dtype=int64)"
     },
     "metadata": {},
     "execution_count": 7
    }
   ],
   "source": [
    "np.bincount(df['spam'])"
   ]
  },
  {
   "cell_type": "code",
   "execution_count": 1,
   "metadata": {
    "tags": []
   },
   "outputs": [
    {
     "output_type": "error",
     "ename": "NameError",
     "evalue": "name &#39;df&#39; is not defined",
     "traceback": [
      "\u001b[1;31m---------------------------------------------------------------------------\u001b[0m",
      "\u001b[1;31mNameError\u001b[0m                                 Traceback (most recent call last)",
      "\u001b[1;32m&lt;ipython-input-1-0f71d26cfdf1&gt;\u001b[0m in \u001b[0;36m&lt;module&gt;\u001b[1;34m\u001b[0m\n\u001b[0;32m      1\u001b[0m \u001b[0ma\u001b[0m \u001b[1;33m=\u001b[0m \u001b[1;36m0\u001b[0m\u001b[1;33m\u001b[0m\u001b[1;33m\u001b[0m\u001b[0m\n\u001b[0;32m      2\u001b[0m \u001b[1;32mfor\u001b[0m \u001b[0mi\u001b[0m \u001b[1;32min\u001b[0m \u001b[0mrange\u001b[0m\u001b[1;33m(\u001b[0m\u001b[0ma\u001b[0m\u001b[1;33m,\u001b[0m\u001b[0ma\u001b[0m\u001b[1;33m+\u001b[0m\u001b[1;36m4\u001b[0m\u001b[1;33m)\u001b[0m\u001b[1;33m:\u001b[0m\u001b[1;33m\u001b[0m\u001b[1;33m\u001b[0m\u001b[0m\n\u001b[1;32m----&gt; 3\u001b[1;33m     \u001b[0mprint\u001b[0m\u001b[1;33m(\u001b[0m\u001b[0mdf\u001b[0m\u001b[1;33m[\u001b[0m\u001b[1;34m&#39;sms_text&#39;\u001b[0m\u001b[1;33m]\u001b[0m\u001b[1;33m[\u001b[0m\u001b[0mi\u001b[0m\u001b[1;33m]\u001b[0m\u001b[1;33m)\u001b[0m\u001b[1;33m\u001b[0m\u001b[1;33m\u001b[0m\u001b[0m\n\u001b[0m\u001b[0;32m      4\u001b[0m     \u001b[0mprint\u001b[0m\u001b[1;33m(\u001b[0m\u001b[1;33m)\u001b[0m\u001b[1;33m\u001b[0m\u001b[1;33m\u001b[0m\u001b[0m\n\u001b[0;32m      5\u001b[0m \u001b[1;33m\u001b[0m\u001b[0m\n",
      "\u001b[1;31mNameError\u001b[0m: name &#39;df&#39; is not defined"
     ]
    }
   ],
   "source": [
    "a = 0 \n",
    "for i in range(a,a+4):\n",
    "    print(df['sms_text'][i])\n",
    "    print()\n",
    "\n",
    "def clean_text_round1(text):\n",
    "    '''Make text lowercase, remove text in brackets, remove punctuation and remove words containing numbers.'''\n",
    "    text = text.lower()\n",
    "    text = re.sub('\\[.*?\\]', '', text)\n",
    "    text = re.sub('\\[^\\w\\s]','', text)\n",
    "    text = re.sub('\\w*\\d\\w*', '', text)\n",
    "    return text\n",
    "\n",
    "round1_train = lambda x: clean_text_round1(x)\n",
    "df_clean_train = pd.DataFrame(df.sms_text.apply(round1_train))\n",
    "df_clean_train.head()\n"
   ]
  },
  {
   "cell_type": "code",
   "execution_count": 166,
   "metadata": {},
   "outputs": [
    {
     "output_type": "execute_result",
     "data": {
      "text/plain": "                                               sms_text\n0                             hope good week . checking\n1                               k .. give back thanks .\n2                                      also cbe . pay .\n3     complimentary star ibiza holiday £ , cash need...\n4     okmail : dear dave final notice collect * tene...\n...                                                 ...\n4995  aiyar dun disturb u liao ... thk u lots aft ur...\n4996  sms services . inclusive text credits , pls go...\n4997                   're car hour half 'm going crazy\n4998  mm umma ask vava also come tell play later tog...\n4999  generally n't one . 's uncountable noun - u di...\n\n[5000 rows x 1 columns]",
      "text/html": "<div>\n<style scoped>\n    .dataframe tbody tr th:only-of-type {\n        vertical-align: middle;\n    }\n\n    .dataframe tbody tr th {\n        vertical-align: top;\n    }\n\n    .dataframe thead th {\n        text-align: right;\n    }\n</style>\n<table border=\"1\" class=\"dataframe\">\n  <thead>\n    <tr style=\"text-align: right;\">\n      <th></th>\n      <th>sms_text</th>\n    </tr>\n  </thead>\n  <tbody>\n    <tr>\n      <th>0</th>\n      <td>hope good week . checking</td>\n    </tr>\n    <tr>\n      <th>1</th>\n      <td>k .. give back thanks .</td>\n    </tr>\n    <tr>\n      <th>2</th>\n      <td>also cbe . pay .</td>\n    </tr>\n    <tr>\n      <th>3</th>\n      <td>complimentary star ibiza holiday £ , cash need...</td>\n    </tr>\n    <tr>\n      <th>4</th>\n      <td>okmail : dear dave final notice collect * tene...</td>\n    </tr>\n    <tr>\n      <th>...</th>\n      <td>...</td>\n    </tr>\n    <tr>\n      <th>4995</th>\n      <td>aiyar dun disturb u liao ... thk u lots aft ur...</td>\n    </tr>\n    <tr>\n      <th>4996</th>\n      <td>sms services . inclusive text credits , pls go...</td>\n    </tr>\n    <tr>\n      <th>4997</th>\n      <td>'re car hour half 'm going crazy</td>\n    </tr>\n    <tr>\n      <th>4998</th>\n      <td>mm umma ask vava also come tell play later tog...</td>\n    </tr>\n    <tr>\n      <th>4999</th>\n      <td>generally n't one . 's uncountable noun - u di...</td>\n    </tr>\n  </tbody>\n</table>\n<p>5000 rows × 1 columns</p>\n</div>"
     },
     "metadata": {},
     "execution_count": 166
    }
   ],
   "source": [
    "stop_words = set(stopwords.words('english')) \n",
    "for i, line in enumerate(df_clean_train.sms_text): \n",
    "    df_clean_train.sms_text[i] = ' '.join([x for \n",
    "        x in nltk.word_tokenize(line) if \n",
    "        ( x not in stop_words )]) \n",
    "df_clean_train"
   ]
  },
  {
   "cell_type": "code",
   "execution_count": 167,
   "metadata": {
    "tags": []
   },
   "outputs": [
    {
     "output_type": "execute_result",
     "data": {
      "text/plain": "                                            sms_text  id  spam\n0                          hope good week . checking   1     0\n1                            k .. give back thanks .   2     0\n2                                   also cbe . pay .   3     0\n3  complimentary star ibiza holiday £ , cash need...   4     1\n4  okmail : dear dave final notice collect * tene...   5     1",
      "text/html": "<div>\n<style scoped>\n    .dataframe tbody tr th:only-of-type {\n        vertical-align: middle;\n    }\n\n    .dataframe tbody tr th {\n        vertical-align: top;\n    }\n\n    .dataframe thead th {\n        text-align: right;\n    }\n</style>\n<table border=\"1\" class=\"dataframe\">\n  <thead>\n    <tr style=\"text-align: right;\">\n      <th></th>\n      <th>sms_text</th>\n      <th>id</th>\n      <th>spam</th>\n    </tr>\n  </thead>\n  <tbody>\n    <tr>\n      <th>0</th>\n      <td>hope good week . checking</td>\n      <td>1</td>\n      <td>0</td>\n    </tr>\n    <tr>\n      <th>1</th>\n      <td>k .. give back thanks .</td>\n      <td>2</td>\n      <td>0</td>\n    </tr>\n    <tr>\n      <th>2</th>\n      <td>also cbe . pay .</td>\n      <td>3</td>\n      <td>0</td>\n    </tr>\n    <tr>\n      <th>3</th>\n      <td>complimentary star ibiza holiday £ , cash need...</td>\n      <td>4</td>\n      <td>1</td>\n    </tr>\n    <tr>\n      <th>4</th>\n      <td>okmail : dear dave final notice collect * tene...</td>\n      <td>5</td>\n      <td>1</td>\n    </tr>\n  </tbody>\n</table>\n</div>"
     },
     "metadata": {},
     "execution_count": 167
    }
   ],
   "source": [
    "df_clean_train['id'] = df['id']\n",
    "df_clean_train['spam'] = df['spam']\n",
    "df_clean_train.head()"
   ]
  },
  {
   "cell_type": "markdown",
   "metadata": {},
   "source": [
    "# Build Pipeline"
   ]
  },
  {
   "cell_type": "code",
   "execution_count": 176,
   "metadata": {},
   "outputs": [],
   "source": [
    "from sklearn.model_selection import train_test_split\n",
    "\n",
    "X = df_clean_train['sms_text']\n",
    "y = df_clean_train['spam']\n",
    "X_train, X_val, y_train, y_val = train_test_split(X, y, test_size=0.1, random_state=42)"
   ]
  },
  {
   "cell_type": "code",
   "execution_count": 169,
   "metadata": {},
   "outputs": [
    {
     "output_type": "execute_result",
     "data": {
      "text/plain": "pandas.core.series.Series"
     },
     "metadata": {},
     "execution_count": 169
    },
    {
     "output_type": "execute_result",
     "data": {
      "text/plain": "(4500,)"
     },
     "metadata": {},
     "execution_count": 169
    },
    {
     "output_type": "execute_result",
     "data": {
      "text/plain": "3716                           u workin overtime nigpun ?\n3779               call times job today ok umma ask speed\n135                                       eatin lunch ...\n4480    unique user id . removal send stop customer se...\n1437                             keep payasam rinu brings\nName: sms_text, dtype: object"
     },
     "metadata": {},
     "execution_count": 169
    },
    {
     "output_type": "execute_result",
     "data": {
      "text/plain": "pandas.core.series.Series"
     },
     "metadata": {},
     "execution_count": 169
    },
    {
     "output_type": "execute_result",
     "data": {
      "text/plain": "(4500,)"
     },
     "metadata": {},
     "execution_count": 169
    },
    {
     "output_type": "execute_result",
     "data": {
      "text/plain": "3716    0\n3779    0\n135     0\n4480    1\n1437    0\nName: spam, dtype: int64"
     },
     "metadata": {},
     "execution_count": 169
    }
   ],
   "source": [
    "type(X_train)\n",
    "X_train.shape\n",
    "X_train.head()\n",
    "\n",
    "type(y_train)\n",
    "y_train.shape\n",
    "y_train.head()"
   ]
  },
  {
   "cell_type": "code",
   "execution_count": 122,
   "metadata": {},
   "outputs": [],
   "source": [
    "# Simple preprocessor.\n",
    "# Input is a single document, as a single string.\n",
    "# Otuput should be a single document, as a single string.\n",
    "#def my_preprocess(doc):\n",
    "    \n",
    "    # Lowercase\n",
    "    #doc = doc.lower()\n",
    "    \n",
    "    # Remove URLs\n",
    "    #doc = re.sub(r'http\\S+', '', doc)\n",
    "        \n",
    "    # TODO: What else?\n",
    "    #doc = re.sub('\\[.*?\\]', '', doc)\n",
    "    #doc = re.sub('\\[^\\w\\s]','', doc)\n",
    "    #doc = re.sub('\\w*\\d\\w*', '', doc)\n",
    "    #return doc"
   ]
  },
  {
   "cell_type": "code",
   "execution_count": 129,
   "metadata": {},
   "outputs": [],
   "source": [
    "#from sklearn.pipeline import Pipeline\n",
    "#from sklearn.feature_extraction.text import TfidfVectorizer, CountVectorizer\n",
    "#from sklearn.tree import DecisionTreeClassifier\n",
    "\n",
    "#vectorizer = CountVectorizer(max_features = 15, preprocessor = my_preprocess)\n",
    "#dt = DecisionTreeClassifier(max_depth=3, random_state=20)\n",
    "\n",
    "#pipe = Pipeline([('cv', vectorizer), ('clf', dt)])\n",
    "\n",
    "\n",
    "\n",
    "\n",
    "# Other things to try above:\n",
    "# - More/Different preprocessing steps\n",
    "# - Different hyperparameter values for CountVectorizer\n",
    "# - Different hyperparameter values for DecisionTreeClassifier\n",
    "# - Different ML algorithms\n",
    "# - Additional feature engineering (can be added to Pipeline via sklearn.pipeline.FeatureUnion)"
   ]
  },
  {
   "cell_type": "code",
   "execution_count": 198,
   "metadata": {},
   "outputs": [],
   "source": [
    "\n",
    "from sklearn.linear_model import SGDClassifier\n",
    "from sklearn.pipeline import make_pipeline, FeatureUnion, Pipeline\n",
    "svm = make_pipeline(CountVectorizer(ngram_range=(1,2)),SGDClassifier(loss='hinge', penalty='l2', alpha=0.0025, random_state=42), ).fit(X_train, y_train)\n",
    "#pred_val = svm.predict(X_val)\n",
    "\n"
   ]
  },
  {
   "cell_type": "code",
   "execution_count": 132,
   "metadata": {},
   "outputs": [
    {
     "output_type": "execute_result",
     "data": {
      "text/plain": "Pipeline(steps=[('cv',\n                 CountVectorizer(max_features=15,\n                                 preprocessor=<function my_preprocess at 0x000001F281D9E168>)),\n                ('clf', DecisionTreeClassifier(max_depth=3, random_state=20))])"
     },
     "metadata": {},
     "execution_count": 132
    }
   ],
   "source": [
    "#pipe.fit(X_train, y_train)"
   ]
  },
  {
   "cell_type": "markdown",
   "metadata": {},
   "source": [
    "# Estimate Model Performance"
   ]
  },
  {
   "cell_type": "code",
   "execution_count": 199,
   "metadata": {
    "tags": []
   },
   "outputs": [
    {
     "output_type": "stream",
     "name": "stdout",
     "text": "Confusion matrix:\n[[441   0]\n [  7  52]]\n\nF1 Score = 0.98600\n\nClassification Report:\n              precision    recall  f1-score   support\n\n           0       0.98      1.00      0.99       441\n           1       1.00      0.88      0.94        59\n\n    accuracy                           0.99       500\n   macro avg       0.99      0.94      0.96       500\nweighted avg       0.99      0.99      0.99       500\n\n"
    }
   ],
   "source": [
    "from sklearn.metrics import confusion_matrix\n",
    "from sklearn.metrics import classification_report, f1_score\n",
    "\n",
    "pred_val = svm.predict(X_val)\n",
    "\n",
    "print(\"Confusion matrix:\")\n",
    "print(confusion_matrix(y_val, pred_val))\n",
    "\n",
    "print(\"\\nF1 Score = {:.5f}\".format(f1_score(y_val, pred_val, average=\"micro\")))\n",
    "\n",
    "print(\"\\nClassification Report:\")\n",
    "print(classification_report(y_val, pred_val))"
   ]
  },
  {
   "cell_type": "markdown",
   "metadata": {},
   "source": [
    "# Create Submission File on Kaggle Hold-Out Data"
   ]
  },
  {
   "cell_type": "code",
   "execution_count": 181,
   "metadata": {},
   "outputs": [
    {
     "output_type": "execute_result",
     "data": {
      "text/plain": "      id  predicted\n0  12000          1\n1  12001          0\n2  12002          0\n3  12003          0\n4  12004          0",
      "text/html": "<div>\n<style scoped>\n    .dataframe tbody tr th:only-of-type {\n        vertical-align: middle;\n    }\n\n    .dataframe tbody tr th {\n        vertical-align: top;\n    }\n\n    .dataframe thead th {\n        text-align: right;\n    }\n</style>\n<table border=\"1\" class=\"dataframe\">\n  <thead>\n    <tr style=\"text-align: right;\">\n      <th></th>\n      <th>id</th>\n      <th>predicted</th>\n    </tr>\n  </thead>\n  <tbody>\n    <tr>\n      <th>0</th>\n      <td>12000</td>\n      <td>1</td>\n    </tr>\n    <tr>\n      <th>1</th>\n      <td>12001</td>\n      <td>0</td>\n    </tr>\n    <tr>\n      <th>2</th>\n      <td>12002</td>\n      <td>0</td>\n    </tr>\n    <tr>\n      <th>3</th>\n      <td>12003</td>\n      <td>0</td>\n    </tr>\n    <tr>\n      <th>4</th>\n      <td>12004</td>\n      <td>0</td>\n    </tr>\n  </tbody>\n</table>\n</div>"
     },
     "metadata": {},
     "execution_count": 181
    }
   ],
   "source": [
    "test_df = pd.read_csv('spamraw_test.csv')\n",
    "\n",
    "pred_test = svm.predict(test_df['sms_text'])\n",
    "\n",
    "# Output the predictions to a file to upload to Kaggle.\n",
    "my_submission = pd.DataFrame({'id': test_df.id, 'predicted': pred_test})\n",
    "my_submission.head()\n",
    "my_submission.to_csv('my_submission_v5.csv', index=False)"
   ]
  },
  {
   "cell_type": "code",
   "execution_count": null,
   "metadata": {},
   "outputs": [],
   "source": []
  }
 ],
 "metadata": {
  "kernelspec": {
   "name": "Python 3.7.7 64-bit",
   "display_name": "Python 3.7.7 64-bit",
   "metadata": {
    "interpreter": {
     "hash": "c276cc7a905a9b1f9dc7cd744196db5470c559a6c6f2c4a41272adf390bf8260"
    }
   }
  },
  "language_info": {
   "codemirror_mode": {
    "name": "ipython",
    "version": 3
   },
   "file_extension": ".py",
   "mimetype": "text/x-python",
   "name": "python",
   "nbconvert_exporter": "python",
   "pygments_lexer": "ipython3",
   "version": "3.7.7-final"
  }
 },
 "nbformat": 4,
 "nbformat_minor": 4
}